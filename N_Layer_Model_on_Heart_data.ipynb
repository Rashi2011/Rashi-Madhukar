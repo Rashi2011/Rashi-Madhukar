{
  "nbformat": 4,
  "nbformat_minor": 0,
  "metadata": {
    "colab": {
      "name": "N_Layer_Model_on_Heart_data.ipynb",
      "provenance": [],
      "collapsed_sections": [],
      "authorship_tag": "ABX9TyMCLTaWJ5AuXpfLsqdOXmfm",
      "include_colab_link": true
    },
    "kernelspec": {
      "name": "python3",
      "display_name": "Python 3"
    }
  },
  "cells": [
    {
      "cell_type": "markdown",
      "metadata": {
        "id": "view-in-github",
        "colab_type": "text"
      },
      "source": [
        "<a href=\"https://colab.research.google.com/github/Rashi2011/Rashi-Madhukar/blob/master/N_Layer_Model_on_Heart_data.ipynb\" target=\"_parent\"><img src=\"https://colab.research.google.com/assets/colab-badge.svg\" alt=\"Open In Colab\"/></a>"
      ]
    },
    {
      "cell_type": "code",
      "metadata": {
        "id": "nFAAgga7SzMr",
        "colab_type": "code",
        "colab": {}
      },
      "source": [
        "#import libraries\n",
        "import numpy as np\n",
        "import matplotlib.pyplot as plt\n",
        "import pandas as pd\n",
        "from sklearn import metrics\n"
      ],
      "execution_count": null,
      "outputs": []
    },
    {
      "cell_type": "code",
      "metadata": {
        "id": "yHSZoZuabkFm",
        "colab_type": "code",
        "colab": {
          "resources": {
            "http://localhost:8080/nbextensions/google.colab/files.js": {
              "data": "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",
              "ok": true,
              "headers": [
                [
                  "content-type",
                  "application/javascript"
                ]
              ],
              "status": 200,
              "status_text": ""
            }
          },
          "base_uri": "https://localhost:8080/",
          "height": 73
        },
        "outputId": "5be63d3e-eccc-4e09-ee1d-c60cb2da6e8d"
      },
      "source": [
        "#Loading the data()\n",
        "#Downloading the dataset from local drive\n",
        "from google.colab import files\n",
        "uploaded = files.upload()\n"
      ],
      "execution_count": null,
      "outputs": [
        {
          "output_type": "display_data",
          "data": {
            "text/html": [
              "\n",
              "     <input type=\"file\" id=\"files-44b4ce79-7ba2-433a-97bf-4cd62dbbb75a\" name=\"files[]\" multiple disabled\n",
              "        style=\"border:none\" />\n",
              "     <output id=\"result-44b4ce79-7ba2-433a-97bf-4cd62dbbb75a\">\n",
              "      Upload widget is only available when the cell has been executed in the\n",
              "      current browser session. Please rerun this cell to enable.\n",
              "      </output>\n",
              "      <script src=\"/nbextensions/google.colab/files.js\"></script> "
            ],
            "text/plain": [
              "<IPython.core.display.HTML object>"
            ]
          },
          "metadata": {
            "tags": []
          }
        },
        {
          "output_type": "stream",
          "text": [
            "Saving Heart.csv to Heart.csv\n"
          ],
          "name": "stdout"
        }
      ]
    },
    {
      "cell_type": "code",
      "metadata": {
        "id": "h4zxnju4dm3z",
        "colab_type": "code",
        "colab": {}
      },
      "source": [
        "import io\n",
        "dataset = pd.read_csv(io.BytesIO(uploaded['Heart.csv']))"
      ],
      "execution_count": null,
      "outputs": []
    },
    {
      "cell_type": "code",
      "metadata": {
        "id": "jk-ww3NDdfTc",
        "colab_type": "code",
        "colab": {}
      },
      "source": [
        "dataset = dataset.dropna()\n",
        "X = dataset.iloc[:,:14].values\n",
        "Y = dataset.iloc[:,14].values\n",
        "\n",
        "#Encoding Categorical Data\n",
        "from sklearn.preprocessing import LabelEncoder,OneHotEncoder\n",
        "lb = LabelEncoder()\n",
        "X[:,3] = lb.fit_transform(X[:,3])\n",
        "X[:,13] = lb.fit_transform(X[:,13])\n",
        "#imputer(It takes 2d array)\n",
        "from sklearn.impute import SimpleImputer\n",
        "imp = SimpleImputer(missing_values = np.nan, strategy = 'mean')\n",
        "X = imp.fit_transform(X)\n",
        "Y = lb.fit_transform(Y)\n",
        "\n",
        "#Feature Scaling\n",
        "from sklearn.preprocessing import StandardScaler\n",
        "sc = StandardScaler()\n",
        "X = sc.fit_transform(X)\n",
        "\n",
        "\n"
      ],
      "execution_count": null,
      "outputs": []
    },
    {
      "cell_type": "code",
      "metadata": {
        "id": "SjQyquGksVCQ",
        "colab_type": "code",
        "colab": {
          "base_uri": "https://localhost:8080/",
          "height": 54
        },
        "outputId": "321a25d4-21c2-45fe-ba36-169d3017069d"
      },
      "source": [
        "#Splitting train and test set\n",
        "from sklearn.model_selection import train_test_split\n",
        "X_train,X_test,Y_train,Y_test = train_test_split(X,Y, test_size = 0.3,random_state = 0)\n",
        "\n",
        "#Reshaping X and Y(I/p and O/p)\n",
        "X_train = np.transpose(X_train)\n",
        "X_test = np.transpose(X_test)\n",
        "Y_train= np.expand_dims(Y_train, axis=0)\n",
        "Y_test= np.expand_dims(Y_test, axis=0)\n",
        "print(X_train.shape)\n",
        "print(Y_train.shape)"
      ],
      "execution_count": null,
      "outputs": [
        {
          "output_type": "stream",
          "text": [
            "(14, 207)\n",
            "(1, 207)\n"
          ],
          "name": "stdout"
        }
      ]
    },
    {
      "cell_type": "code",
      "metadata": {
        "id": "CfPJRsctUY1b",
        "colab_type": "code",
        "colab": {}
      },
      "source": [
        "#Initialize Parameters\n",
        "def initialize_param(layers_dims):\n",
        "  np.random.seed(102)\n",
        "  parameters = {}                #empty dictionary\n",
        "  L = len(layers_dims)           # no of layers in the network\n",
        "  for l in range(1,L):\n",
        "    parameters[\"W\" + str(l)]= np.random.rand(layers_dims[l],layers_dims[l-1])\n",
        "    parameters[\"b\"+ str(l)]= np.zeros((layers_dims[l],1))\n",
        "\n",
        "  return parameters"
      ],
      "execution_count": null,
      "outputs": []
    },
    {
      "cell_type": "code",
      "metadata": {
        "id": "lfnSLXT6W8pe",
        "colab_type": "code",
        "colab": {
          "base_uri": "https://localhost:8080/",
          "height": 54
        },
        "outputId": "86fa5578-d903-4da8-c17e-14ec80ac7459"
      },
      "source": [
        "'''\n",
        "layers_dims = [14,5,3,1]\n",
        "parameters = initialize_param(layers_dims)\n",
        "#print(parameters)             #Dictionary\n",
        "print(\"W1 = \"+ str(parameters[\"W1\"]))\n",
        "print(\"b1 = \"+ str(parameters[\"b1\"]))\n",
        "print(\"W2 = \"+ str(parameters[\"W2\"]))\n",
        "print(\"b2 = \"+ str(parameters[\"b2\"]))\n",
        "'''"
      ],
      "execution_count": null,
      "outputs": [
        {
          "output_type": "execute_result",
          "data": {
            "application/vnd.google.colaboratory.intrinsic": {
              "type": "string"
            },
            "text/plain": [
              "'\\nlayers_dims = [14,5,3,1]\\nparameters = initialize_param(layers_dims)\\n#print(parameters)             #Dictionary\\nprint(\"W1 = \"+ str(parameters[\"W1\"]))\\nprint(\"b1 = \"+ str(parameters[\"b1\"]))\\nprint(\"W2 = \"+ str(parameters[\"W2\"]))\\nprint(\"b2 = \"+ str(parameters[\"b2\"]))\\n'"
            ]
          },
          "metadata": {
            "tags": []
          },
          "execution_count": 24
        }
      ]
    },
    {
      "cell_type": "code",
      "metadata": {
        "id": "Mw6imtptkA6H",
        "colab_type": "code",
        "colab": {
          "base_uri": "https://localhost:8080/",
          "height": 54
        },
        "outputId": "67960154-cf23-42e8-a5a8-99daf49d9c7a"
      },
      "source": [
        "#Activation Function\n",
        "def sigmoid(z):\n",
        "  A = 1/(1+np.exp(-z))\n",
        "  return A\n",
        "\n",
        "def relu(z):\n",
        "  A = np.maximum(0,z)\n",
        "  return A\n",
        "\n",
        "def sign_f(AL,mean):\n",
        "    if AL <= mean:\n",
        "      return 0\n",
        "    else:\n",
        "      return 1\n",
        "'''\n",
        "def sigmoid_backward(dA,activation_cache):\n",
        "  Z_ ,cacheee = sigmoid(dA)\n",
        "  dZ = dA * Z_\n",
        "  return dZ\n",
        "\n",
        "\n",
        "def relu_backward(dA,activation_cache):\n",
        "  Z_, cachee = relu(dA)\n",
        "  dZ = dA *Z_\n",
        "  return dZ\n",
        "'''"
      ],
      "execution_count": null,
      "outputs": [
        {
          "output_type": "execute_result",
          "data": {
            "application/vnd.google.colaboratory.intrinsic": {
              "type": "string"
            },
            "text/plain": [
              "'\\ndef sigmoid_backward(dA,activation_cache):\\n  Z_ ,cacheee = sigmoid(dA)\\n  dZ = dA * Z_\\n  return dZ\\n\\n\\ndef relu_backward(dA,activation_cache):\\n  Z_, cachee = relu(dA)\\n  dZ = dA *Z_\\n  return dZ\\n'"
            ]
          },
          "metadata": {
            "tags": []
          },
          "execution_count": 25
        }
      ]
    },
    {
      "cell_type": "code",
      "metadata": {
        "id": "RRNuy4C8hcxk",
        "colab_type": "code",
        "colab": {}
      },
      "source": [
        "#forward\n",
        "def forward(A, W, b):\n",
        "  Z = np.dot(W,A) +b\n",
        "  #print(\"Z.shape = \",Z.shape)       \n",
        "  \n",
        "  return Z"
      ],
      "execution_count": null,
      "outputs": []
    },
    {
      "cell_type": "code",
      "metadata": {
        "id": "6WS8PxnydPq2",
        "colab_type": "code",
        "colab": {}
      },
      "source": [
        "#Activations forward\n",
        "def activation_forward(A_prev, W, b ,activation):\n",
        "  if activation == \"sigmoid\":\n",
        "    #print(\"W,b\",W.shape,b.shape)\n",
        "    Z = forward(A_prev,W,b)\n",
        "    A  = sigmoid(Z)\n",
        "    \n",
        "\n",
        "  elif activation == \"relu\":\n",
        "    #print(\"W,b\",W.shape,b.shape)\n",
        "    Z = forward(A_prev,W,b)\n",
        "    A  =  relu(Z)\n",
        "    #print(\"Ashapes\",A.shape)\n",
        "          \n",
        "  return A,Z"
      ],
      "execution_count": null,
      "outputs": []
    },
    {
      "cell_type": "code",
      "metadata": {
        "id": "IqKWF8huYalD",
        "colab_type": "code",
        "colab": {}
      },
      "source": [
        "#Forward Propagation\n",
        "def forward_model(X,parameters):    \n",
        "  cache = {}  #empty dictionary    \n",
        "  A = X\n",
        "  L = len(parameters)//2\n",
        " \n",
        "  for l in range(1,L):\n",
        "    A_prev =A\n",
        "    A,cache[\"Z\"+str(l)] = activation_forward(A_prev, parameters['W'+ str(l)], parameters['b'+ str(l)], activation = \"relu\")  #i = 1,i = 2\n",
        "    cache[\"A\"+str(l)] = A\n",
        "    \n",
        "    \n",
        "  AL,cache[\"Z\"+str(L)] = activation_forward(cache[\"A\"+str(L-1)], parameters[\"W\"+str(L)], parameters[\"b\"+str(L)], activation = \"sigmoid\")  #i = 3\n",
        "  cache[\"A\"+str(L)] = AL\n",
        "  return AL,cache\n",
        "\n"
      ],
      "execution_count": null,
      "outputs": []
    },
    {
      "cell_type": "code",
      "metadata": {
        "id": "HGN_q39a6BFV",
        "colab_type": "code",
        "colab": {
          "base_uri": "https://localhost:8080/",
          "height": 35
        },
        "outputId": "0e355c36-9edf-49b5-da98-273eee725aae"
      },
      "source": [
        "#tocheck'''\n",
        "'''\n",
        "AL,cache = forward_model(X_train,parameters)\n",
        "print(AL.shape)\n",
        "'''"
      ],
      "execution_count": null,
      "outputs": [
        {
          "output_type": "execute_result",
          "data": {
            "application/vnd.google.colaboratory.intrinsic": {
              "type": "string"
            },
            "text/plain": [
              "'\\nAL,cache = forward_model(X_train,parameters)\\nprint(AL.shape)\\n'"
            ]
          },
          "metadata": {
            "tags": []
          },
          "execution_count": 29
        }
      ]
    },
    {
      "cell_type": "code",
      "metadata": {
        "id": "MnCP10rOsYAg",
        "colab_type": "code",
        "colab": {}
      },
      "source": [
        "#Cost Function\n",
        "def compute_cost(AL,Y):\n",
        "  m = Y.shape[1]\n",
        "  #print(m)\n",
        "  cost = -(1/m)*np.sum((Y*np.log(AL) + (1-Y)*np.log(1-AL)))\n",
        "  return cost"
      ],
      "execution_count": null,
      "outputs": []
    },
    {
      "cell_type": "code",
      "metadata": {
        "id": "LEajzLx3Ih0-",
        "colab_type": "code",
        "colab": {
          "base_uri": "https://localhost:8080/",
          "height": 35
        },
        "outputId": "639e07f3-b493-4ee1-b7eb-fd01a8c43a45"
      },
      "source": [
        "#to check\n",
        "'''\n",
        "cost = compute_cost(AL,Y_train)\n",
        "print(\"cost = \",cost)\n",
        "'''"
      ],
      "execution_count": null,
      "outputs": [
        {
          "output_type": "execute_result",
          "data": {
            "application/vnd.google.colaboratory.intrinsic": {
              "type": "string"
            },
            "text/plain": [
              "'\\ncost = compute_cost(AL,Y_train)\\nprint(\"cost = \",cost)\\n'"
            ]
          },
          "metadata": {
            "tags": []
          },
          "execution_count": 31
        }
      ]
    },
    {
      "cell_type": "code",
      "metadata": {
        "id": "ZsgYOa8FtGuo",
        "colab_type": "code",
        "colab": {}
      },
      "source": [
        "#Backward \n",
        "def backward(dA,W,A_prev): \n",
        "  m = dA.shape[1]            \n",
        "  dW = np.dot(dA,A_prev.T)   #(1x3)\n",
        "  dA_ = np.dot(W.T,dA)       #3x207\n",
        "  #print(\"dA_\",dA_.shape)\n",
        "  db = (1/m)*np.sum(dA,axis = 1,keepdims = True) \n",
        "\n",
        "  return dA_,dW,db"
      ],
      "execution_count": null,
      "outputs": []
    },
    {
      "cell_type": "code",
      "metadata": {
        "id": "VVQTuiWLtQsp",
        "colab_type": "code",
        "colab": {}
      },
      "source": [
        "#Activation backward\n",
        "def activation_backward(dA,W,A_prev ,activation):\n",
        "  \n",
        "  if activation == \"relu\":\n",
        "    dA_,dW ,db = backward(dA,W,A_prev)\n",
        "  elif activation == \"sigmoid\":\n",
        "    dA_,dW ,db = backward(dA,W,A_prev)\n",
        "\n",
        "  return dA_,dW,db\n",
        "\n"
      ],
      "execution_count": null,
      "outputs": []
    },
    {
      "cell_type": "code",
      "metadata": {
        "id": "NJAPFL6jtVbj",
        "colab_type": "code",
        "colab": {}
      },
      "source": [
        "#backward Model\n",
        "def backward_model(AL,X,Y, cache,parameters):\n",
        "  \n",
        "  grads = {}           #empty dictionary\n",
        "  L = int(len(parameters)/2)              #3    #no of layers  \n",
        "  #print(L)  #no of layers\n",
        "  m = Y.shape[1]                #no of training examples\n",
        "  Y = Y.reshape(AL.shape)       #to ensure shape of Y = AL\n",
        "  #intialization of backward propagation\n",
        "  dAL = AL- Y           #dA3\n",
        "  #print(\"dAL\",dAL.shape)\n",
        "  #Sigmoid (for layer L = L-1 )       #L = 3\n",
        "  \n",
        "  grads[\"dA\"+ str(L-1)],grads[\"dW\"+ str(L)] ,grads[\"db\"+ str(L)]  = activation_backward(dAL,parameters[\"W\"+str(L)],cache[\"A\" + str(L-1)] ,activation = \"sigmoid\")\n",
        "\n",
        "  # for layer (L =L-2 to  L=0 ) \n",
        "  for l in reversed(range(L-1)):    #L-1 = 2, #(0 to 2) # means l = 0,1 # reversing it  l = 1,0\n",
        "    if l!=0:\n",
        "      grads[\"dA\"+ str(l)],grads[\"dW\"+ str(l+1)] ,grads[\"db\"+ str(l+1)]  = activation_backward(grads[\"dA\"+ str(l+1)], parameters[\"W\"+ str(l+1)],cache[\"A\"+str(l)] ,activation = \"relu\")\n",
        "\n",
        "    else:\n",
        "      _,grads[\"dW\"+ str(l+1)] ,grads[\"db\"+ str(l+1)]  = activation_backward(grads[\"dA\"+ str(l+1)], parameters[\"W\"+ str(l+1)],X ,activation = \"relu\")\n",
        "  return grads\n",
        "     \n",
        "\n",
        "\n"
      ],
      "execution_count": null,
      "outputs": []
    },
    {
      "cell_type": "code",
      "metadata": {
        "id": "XsdwcJLbytIC",
        "colab_type": "code",
        "colab": {
          "base_uri": "https://localhost:8080/",
          "height": 35
        },
        "outputId": "e5459b9f-5135-4603-d6ee-3d69f857db71"
      },
      "source": [
        "#To check\n",
        "'''\n",
        "grads = backward_model(AL,Y_train,cache,parameters)\n",
        "print(grads)\n",
        "'''"
      ],
      "execution_count": null,
      "outputs": [
        {
          "output_type": "execute_result",
          "data": {
            "application/vnd.google.colaboratory.intrinsic": {
              "type": "string"
            },
            "text/plain": [
              "'\\ngrads = backward_model(AL,Y_train,cache,parameters)\\nprint(grads)\\n'"
            ]
          },
          "metadata": {
            "tags": []
          },
          "execution_count": 35
        }
      ]
    },
    {
      "cell_type": "code",
      "metadata": {
        "id": "8e-JlRW-SJzU",
        "colab_type": "code",
        "colab": {}
      },
      "source": [
        "#Update Parameters\n",
        "def update_param(parameters,grads,learning_rate):\n",
        "  L = len(parameters)//2\n",
        "  for l in range(L):\n",
        "    parameters[\"W\"+str(l+1)] = parameters[\"W\"+str(l+1)] - (learning_rate*(grads[\"dW\"+ str(l+1)]))\n",
        "    parameters[\"b\"+str(l+1)] = parameters[\"b\"+str(l+1)] - (learning_rate*(grads[\"db\"+ str(l+1)]))\n",
        "\n",
        "  return parameters"
      ],
      "execution_count": null,
      "outputs": []
    },
    {
      "cell_type": "code",
      "metadata": {
        "id": "UdvJDzfeIHIN",
        "colab_type": "code",
        "colab": {
          "base_uri": "https://localhost:8080/",
          "height": 35
        },
        "outputId": "28b6d0f4-8f84-4768-946b-2bfb70dcdc85"
      },
      "source": [
        "\n",
        "#To Check\n",
        "'''\n",
        "parameters = update_param(parameters,grads,learning_rate = 0.01)\n",
        "\n",
        "print(parameters[\"W\"+str(1)])\n",
        "print(parameters[\"b\"+str(1)])\n",
        "'''"
      ],
      "execution_count": null,
      "outputs": [
        {
          "output_type": "execute_result",
          "data": {
            "application/vnd.google.colaboratory.intrinsic": {
              "type": "string"
            },
            "text/plain": [
              "'\\nparameters = update_param(parameters,grads,learning_rate = 0.01)\\n\\nprint(parameters[\"W\"+str(1)])\\nprint(parameters[\"b\"+str(1)])\\n'"
            ]
          },
          "metadata": {
            "tags": []
          },
          "execution_count": 37
        }
      ]
    },
    {
      "cell_type": "code",
      "metadata": {
        "id": "mR0lU6rdnzmB",
        "colab_type": "code",
        "colab": {}
      },
      "source": [
        "#NN Model\n",
        "def L_layer_model(X, Y, layers_dims, learning_rate , num_iterations):\n",
        "  costs = []                #empty list\n",
        "  \n",
        "  parameters = initialize_param(layers_dims)\n",
        "  for i in range(0,num_iterations):\n",
        "    #Forward Propagation(relu to sigmoid)\n",
        "    \n",
        "    AL,cache = forward_model(X,parameters)\n",
        "    \n",
        "\n",
        "    #compute cost\n",
        "    cost = compute_cost(AL,Y)\n",
        "\n",
        "    #Backward Propagation\n",
        "    grads = backward_model(AL,X,Y, cache,parameters)\n",
        "\n",
        "    #Update Parameters\n",
        "    parameters = update_param(parameters,grads,learning_rate)\n",
        "    \n",
        "\n",
        "    #Print the cost on every 100th training examples\n",
        "    \n",
        "    print (\"Cost after iteration %i: %f\" %(i, cost))\n",
        "    \n",
        "    #Converting to y_pred\n",
        "    \n",
        "    y_pred = []\n",
        "    for j in range(AL.shape[1]):\n",
        "      y_pred.append(sign_f(AL[0][j],np.mean(AL)))\n",
        "    y_pred = np.asmatrix(y_pred)\n",
        "    \n",
        "    costs.append(cost)\n",
        "    #Accuracy\n",
        "    print(metrics.f1_score(Y, y_pred,average = 'micro'))\n",
        "    \n",
        "         \n",
        "  \n",
        "  return parameters\n",
        "\n"
      ],
      "execution_count": null,
      "outputs": []
    },
    {
      "cell_type": "code",
      "metadata": {
        "id": "XJ1fCDE0rs7D",
        "colab_type": "code",
        "colab": {
          "base_uri": "https://localhost:8080/",
          "height": 1000
        },
        "outputId": "b55f8a81-260b-4278-94d5-2ebb2253d33c"
      },
      "source": [
        "layers_dims = [14,5,1]\n",
        "parameters = L_layer_model(X_train, Y_train, layers_dims, 0.005,num_iterations = 50)"
      ],
      "execution_count": null,
      "outputs": [
        {
          "output_type": "stream",
          "text": [
            "Cost after iteration 0: 0.966128\n",
            "0.6564102564102564\n",
            "Cost after iteration 1: 0.650848\n",
            "0.6923076923076923\n",
            "Cost after iteration 2: 0.627131\n",
            "0.7052023121387283\n",
            "Cost after iteration 3: 0.635488\n",
            "0.7182320441988952\n",
            "Cost after iteration 4: 0.594914\n",
            "0.7349397590361445\n",
            "Cost after iteration 5: 0.596477\n",
            "0.7403314917127073\n",
            "Cost after iteration 6: 0.566455\n",
            "0.7719298245614035\n",
            "Cost after iteration 7: 0.560952\n",
            "0.797752808988764\n",
            "Cost after iteration 8: 0.544436\n",
            "0.7885714285714286\n",
            "Cost after iteration 9: 0.537636\n",
            "0.7932960893854749\n",
            "Cost after iteration 10: 0.529632\n",
            "0.7954545454545454\n",
            "Cost after iteration 11: 0.524304\n",
            "0.8156424581005587\n",
            "Cost after iteration 12: 0.518664\n",
            "0.8268156424581005\n",
            "Cost after iteration 13: 0.512996\n",
            "0.8222222222222222\n",
            "Cost after iteration 14: 0.506868\n",
            "0.8156424581005587\n",
            "Cost after iteration 15: 0.500227\n",
            "0.8156424581005587\n",
            "Cost after iteration 16: 0.492174\n",
            "0.8222222222222222\n",
            "Cost after iteration 17: 0.483802\n",
            "0.8222222222222222\n",
            "Cost after iteration 18: 0.474632\n",
            "0.8222222222222222\n",
            "Cost after iteration 19: 0.464046\n",
            "0.8176795580110496\n",
            "Cost after iteration 20: 0.452495\n",
            "0.8306010928961749\n",
            "Cost after iteration 21: 0.440801\n",
            "0.8369565217391305\n",
            "Cost after iteration 22: 0.429606\n",
            "0.8369565217391305\n",
            "Cost after iteration 23: 0.418465\n",
            "0.8432432432432433\n",
            "Cost after iteration 24: 0.407712\n",
            "0.8432432432432433\n",
            "Cost after iteration 25: 0.398475\n",
            "0.8387096774193549\n",
            "Cost after iteration 26: 0.390450\n",
            "0.8465608465608466\n",
            "Cost after iteration 27: 0.383953\n",
            "0.8465608465608466\n",
            "Cost after iteration 28: 0.378721\n",
            "0.8526315789473685\n",
            "Cost after iteration 29: 0.374481\n",
            "0.8526315789473685\n",
            "Cost after iteration 30: 0.370825\n",
            "0.8316831683168316\n",
            "Cost after iteration 31: 0.367648\n",
            "0.8358208955223881\n",
            "Cost after iteration 32: 0.364609\n",
            "0.8400000000000001\n",
            "Cost after iteration 33: 0.362313\n",
            "0.8341708542713568\n",
            "Cost after iteration 34: 0.360465\n",
            "0.8341708542713568\n",
            "Cost after iteration 35: 0.358970\n",
            "0.8383838383838383\n",
            "Cost after iteration 36: 0.357678\n",
            "0.8383838383838383\n",
            "Cost after iteration 37: 0.356455\n",
            "0.8383838383838383\n",
            "Cost after iteration 38: 0.355438\n",
            "0.8383838383838383\n",
            "Cost after iteration 39: 0.354570\n",
            "0.8383838383838383\n",
            "Cost after iteration 40: 0.353880\n",
            "0.8383838383838383\n",
            "Cost after iteration 41: 0.353324\n",
            "0.8383838383838383\n",
            "Cost after iteration 42: 0.352754\n",
            "0.8367346938775511\n",
            "Cost after iteration 43: 0.352073\n",
            "0.8410256410256411\n",
            "Cost after iteration 44: 0.351366\n",
            "0.8469387755102041\n",
            "Cost after iteration 45: 0.350773\n",
            "0.8556701030927836\n",
            "Cost after iteration 46: 0.350268\n",
            "0.8512820512820513\n",
            "Cost after iteration 47: 0.349891\n",
            "0.8512820512820513\n",
            "Cost after iteration 48: 0.349537\n",
            "0.8512820512820513\n",
            "Cost after iteration 49: 0.349131\n",
            "0.8512820512820513\n"
          ],
          "name": "stdout"
        }
      ]
    },
    {
      "cell_type": "code",
      "metadata": {
        "id": "USJP_O20sNMU",
        "colab_type": "code",
        "colab": {}
      },
      "source": [
        ""
      ],
      "execution_count": null,
      "outputs": []
    }
  ]
}