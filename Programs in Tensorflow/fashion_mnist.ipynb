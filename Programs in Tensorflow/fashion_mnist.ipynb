{
  "nbformat": 4,
  "nbformat_minor": 0,
  "metadata": {
    "colab": {
      "name": "fashion_mnist.ipynb",
      "provenance": [],
      "collapsed_sections": [],
      "authorship_tag": "ABX9TyOkCujPJPeYG7B0hOd3h23M",
      "include_colab_link": true
    },
    "kernelspec": {
      "name": "python3",
      "display_name": "Python 3"
    }
  },
  "cells": [
    {
      "cell_type": "markdown",
      "metadata": {
        "id": "view-in-github",
        "colab_type": "text"
      },
      "source": [
        "<a href=\"https://colab.research.google.com/github/Rashi2011/Rashi-Madhukar/blob/master/Programs%20in%20Tensorflow/fashion_mnist.ipynb\" target=\"_parent\"><img src=\"https://colab.research.google.com/assets/colab-badge.svg\" alt=\"Open In Colab\"/></a>"
      ]
    },
    {
      "cell_type": "code",
      "metadata": {
        "id": "w4Nao7GeVyb8",
        "colab_type": "code",
        "colab": {}
      },
      "source": [
        "#importing the libraries\n",
        "import tensorflow as tf\n",
        "from tensorflow import keras\n",
        "import pandas as pd\n",
        "import matplotlib.pyplot as plt\n",
        "from tensorflow.keras import layers"
      ],
      "execution_count": null,
      "outputs": []
    },
    {
      "cell_type": "code",
      "metadata": {
        "id": "6Qwv99eqWDfI",
        "colab_type": "code",
        "colab": {
          "base_uri": "https://localhost:8080/",
          "height": 35
        },
        "outputId": "1f1d9388-d6f8-423a-e4e6-2d8676f94c4a"
      },
      "source": [
        "\n",
        "#Loading the fashion_mnist dataset\n",
        "fashion_mnist = keras.datasets.fashion_mnist\n",
        "(train_img,train_labels),(test_img,test_labels) = fashion_mnist.load_data()\n",
        "print(train_img.shape,train_labels.shape,test_img.shape,test_labels.shape)\n"
      ],
      "execution_count": null,
      "outputs": [
        {
          "output_type": "stream",
          "text": [
            "(60000, 28, 28) (60000,) (10000, 28, 28) (10000,)\n"
          ],
          "name": "stdout"
        }
      ]
    },
    {
      "cell_type": "code",
      "metadata": {
        "id": "YkU3-7SeWEA2",
        "colab_type": "code",
        "colab": {
          "base_uri": "https://localhost:8080/",
          "height": 35
        },
        "outputId": "0ec7fff8-5c2f-43ba-cf90-dd5d4aa0df38"
      },
      "source": [
        "#Reshaping the data\n",
        "train_img = train_img/255.0\n",
        "test_img = test_img/255.0\n",
        "train_img = train_img.reshape(train_img.shape + (1,))\n",
        "test_img = test_img.reshape(test_img.shape + (1,))\n",
        "print(train_img.shape,train_labels.shape,test_img.shape,test_labels.shape)\n",
        "\n",
        "\n"
      ],
      "execution_count": null,
      "outputs": [
        {
          "output_type": "stream",
          "text": [
            "(60000, 28, 28, 1) (60000,) (10000, 28, 28, 1) (10000,)\n"
          ],
          "name": "stdout"
        }
      ]
    },
    {
      "cell_type": "code",
      "metadata": {
        "id": "_h2du_aiWG6-",
        "colab_type": "code",
        "colab": {}
      },
      "source": [
        "model = tf.keras.Sequential([\n",
        "                             tf.keras.layers.Conv2D(64,(3,3),activation = 'relu',input_shape=(28,28,1)),\n",
        "                             tf.keras.layers.MaxPooling2D(pool_size=(2,2)),\n",
        "                             tf.keras.layers.Conv2D(32,(3,3),activation='relu'),\n",
        "                             tf.keras.layers.MaxPool2D(pool_size=(2,2)),\n",
        "                             tf.keras.layers.Flatten(),\n",
        "                             tf.keras.layers.Dense(128,activation = 'relu'),\n",
        "                             tf.keras.layers.Dense(10, activation = 'softmax'),\n",
        "                            \n",
        "])"
      ],
      "execution_count": null,
      "outputs": []
    },
    {
      "cell_type": "code",
      "metadata": {
        "id": "NhGurBmvWLo2",
        "colab_type": "code",
        "colab": {
          "base_uri": "https://localhost:8080/",
          "height": 417
        },
        "outputId": "63ced8da-861b-446e-fa67-05e49f3687bd"
      },
      "source": [
        "#Optimization and Loss computation\n",
        "model.compile(optimizer = tf.optimizers.Adam(),loss = 'sparse_categorical_crossentropy', metrics = ['acc'] )\n",
        "\n",
        "model.summary()"
      ],
      "execution_count": null,
      "outputs": [
        {
          "output_type": "stream",
          "text": [
            "Model: \"sequential_6\"\n",
            "_________________________________________________________________\n",
            "Layer (type)                 Output Shape              Param #   \n",
            "=================================================================\n",
            "conv2d_12 (Conv2D)           (None, 26, 26, 64)        640       \n",
            "_________________________________________________________________\n",
            "max_pooling2d_12 (MaxPooling (None, 13, 13, 64)        0         \n",
            "_________________________________________________________________\n",
            "conv2d_13 (Conv2D)           (None, 11, 11, 32)        18464     \n",
            "_________________________________________________________________\n",
            "max_pooling2d_13 (MaxPooling (None, 5, 5, 32)          0         \n",
            "_________________________________________________________________\n",
            "flatten_6 (Flatten)          (None, 800)               0         \n",
            "_________________________________________________________________\n",
            "dense_13 (Dense)             (None, 128)               102528    \n",
            "_________________________________________________________________\n",
            "dense_14 (Dense)             (None, 10)                1290      \n",
            "=================================================================\n",
            "Total params: 122,922\n",
            "Trainable params: 122,922\n",
            "Non-trainable params: 0\n",
            "_________________________________________________________________\n"
          ],
          "name": "stdout"
        }
      ]
    },
    {
      "cell_type": "code",
      "metadata": {
        "id": "KfNmJbsaWNww",
        "colab_type": "code",
        "colab": {
          "base_uri": "https://localhost:8080/",
          "height": 199
        },
        "outputId": "d6752c2d-33f0-4ffb-d2cc-d4e7f560e4a6"
      },
      "source": [
        "#fitting the model(Training the model)\n",
        "history = model.fit(train_img, train_labels,batch_size = 4,epochs=5)"
      ],
      "execution_count": null,
      "outputs": [
        {
          "output_type": "stream",
          "text": [
            "Epoch 1/5\n",
            "15000/15000 [==============================] - 104s 7ms/step - loss: 0.2810 - acc: 0.8948\n",
            "Epoch 2/5\n",
            "15000/15000 [==============================] - 103s 7ms/step - loss: 0.2472 - acc: 0.9075\n",
            "Epoch 3/5\n",
            "15000/15000 [==============================] - 102s 7ms/step - loss: 0.2230 - acc: 0.9148\n",
            "Epoch 4/5\n",
            "15000/15000 [==============================] - 101s 7ms/step - loss: 0.2041 - acc: 0.9234\n",
            "Epoch 5/5\n",
            "15000/15000 [==============================] - 101s 7ms/step - loss: 0.1888 - acc: 0.9295\n"
          ],
          "name": "stdout"
        }
      ]
    },
    {
      "cell_type": "code",
      "metadata": {
        "id": "HJd5ByvsWS7b",
        "colab_type": "code",
        "colab": {
          "base_uri": "https://localhost:8080/",
          "height": 54
        },
        "outputId": "e5a17df0-7221-4db3-9726-bc985ba735d1"
      },
      "source": [
        "#evaluation/Prediction\n",
        "model.evaluate(test_img,test_labels, batch_size= 1)"
      ],
      "execution_count": null,
      "outputs": [
        {
          "output_type": "stream",
          "text": [
            "10000/10000 [==============================] - 17s 2ms/step - loss: 0.3040 - acc: 0.8967\n"
          ],
          "name": "stdout"
        },
        {
          "output_type": "execute_result",
          "data": {
            "text/plain": [
              "[0.30404236912727356, 0.8967000246047974]"
            ]
          },
          "metadata": {
            "tags": []
          },
          "execution_count": 43
        }
      ]
    },
    {
      "cell_type": "code",
      "metadata": {
        "id": "DdAMBmsXWU0J",
        "colab_type": "code",
        "colab": {}
      },
      "source": [
        "#libraries\n",
        "%matplotlib inline\n",
        "import matplotlib.image as mpimg\n",
        "import matplotlib.pyplot as plt"
      ],
      "execution_count": null,
      "outputs": []
    },
    {
      "cell_type": "code",
      "metadata": {
        "id": "0VbYtygeWXD2",
        "colab_type": "code",
        "colab": {
          "base_uri": "https://localhost:8080/",
          "height": 317
        },
        "outputId": "76dfe42a-3f70-439d-a323-72b604330d03"
      },
      "source": [
        "#Creating List\n",
        "acc = history.history['acc']\n",
        "loss = history.history['loss']\n",
        "\n",
        "epochs = range(len(acc))\n",
        "\n",
        "#Plotting Training loss and accuracy\n",
        "plt.plot(epochs,acc,'r','training_acc')\n",
        "plt.plot(epochs,loss,'b','training loss')\n",
        "plt.title(' Training loss and accuracy')\n",
        "plt.figure()\n",
        "\n"
      ],
      "execution_count": null,
      "outputs": [
        {
          "output_type": "execute_result",
          "data": {
            "text/plain": [
              "<Figure size 432x288 with 0 Axes>"
            ]
          },
          "metadata": {
            "tags": []
          },
          "execution_count": 45
        },
        {
          "output_type": "display_data",
          "data": {
            "image/png": "[encoded data removed]",
            "text/plain": [
              "<Figure size 432x288 with 1 Axes>"
            ]
          },
          "metadata": {
            "tags": [],
            "needs_background": "light"
          }
        },
        {
          "output_type": "display_data",
          "data": {
            "text/plain": [
              "<Figure size 432x288 with 0 Axes>"
            ]
          },
          "metadata": {
            "tags": []
          }
        }
      ]
    },
    {
      "cell_type": "code",
      "metadata": {
        "id": "IeimaYfz3FpL",
        "colab_type": "code",
        "colab": {}
      },
      "source": [
        ""
      ],
      "execution_count": null,
      "outputs": []
    }
  ]
}