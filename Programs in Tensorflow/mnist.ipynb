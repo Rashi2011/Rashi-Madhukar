{
  "nbformat": 4,
  "nbformat_minor": 0,
  "metadata": {
    "colab": {
      "name": "mnist.ipynb",
      "provenance": [],
      "collapsed_sections": [],
      "mount_file_id": "10KCghdWRJdfcTk-2LVQ5lEuxJRGSlOwJ",
      "authorship_tag": "ABX9TyPa0x25eHzO7i7G0dqDF+XW",
      "include_colab_link": true
    },
    "kernelspec": {
      "name": "python3",
      "display_name": "Python 3"
    }
  },
  "cells": [
    {
      "cell_type": "markdown",
      "metadata": {
        "id": "view-in-github",
        "colab_type": "text"
      },
      "source": [
        "<a href=\"https://colab.research.google.com/github/Rashi2011/Rashi-Madhukar/blob/master/Programs%20in%20Tensorflow/mnist.ipynb\" target=\"_parent\"><img src=\"https://colab.research.google.com/assets/colab-badge.svg\" alt=\"Open In Colab\"/></a>"
      ]
    },
    {
      "cell_type": "markdown",
      "metadata": {
        "id": "rLPpaozTLvoF",
        "colab_type": "text"
      },
      "source": [
        "***This is a Multiclass Dataset therefor we have to take 1st class as 1 and rest as 0 , then again only 2nd class is as 1 and rest all as 0 , and so on... ***\n"
      ]
    },
    {
      "cell_type": "code",
      "metadata": {
        "id": "et3RM0Z5_2ry",
        "colab_type": "code",
        "colab": {}
      },
      "source": [
        "#importing the libraries\n",
        "import tensorflow as tf\n",
        "from tensorflow import keras\n",
        "import pandas as pd\n",
        "import matplotlib.pyplot as plt\n",
        "from tensorflow.keras import layers"
      ],
      "execution_count": null,
      "outputs": []
    },
    {
      "cell_type": "code",
      "metadata": {
        "id": "pkFOzSDMAjFB",
        "colab_type": "code",
        "colab": {
          "base_uri": "https://localhost:8080/",
          "height": 54
        },
        "outputId": "b0e94612-1198-4297-8cca-e464e6f21ef9"
      },
      "source": [
        "\n",
        "#Loading the data(mnist_data)\n",
        "path = \"/content/drive/My Drive/Colab Notebooks/Dataset/mnist_test.csv\"\n",
        "data = pd.read_csv(path)\n",
        "print(data.shape)\n",
        "X = data.iloc[:,1:785].values\n",
        "Y = data.iloc[:,0].values\n",
        "print(X.shape,Y.shape)\n"
      ],
      "execution_count": null,
      "outputs": [
        {
          "output_type": "stream",
          "text": [
            "(9999, 785)\n",
            "(9999, 784) (9999,)\n"
          ],
          "name": "stdout"
        }
      ]
    },
    {
      "cell_type": "code",
      "metadata": {
        "id": "x5EZlAi_xoaG",
        "colab_type": "code",
        "colab": {
          "base_uri": "https://localhost:8080/",
          "height": 35
        },
        "outputId": "1fc81c41-2487-4f94-91f4-c8df88c4382f"
      },
      "source": [
        "from sklearn.model_selection import train_test_split\n",
        "train_img,test_img,train_labels,test_labels = train_test_split(X,Y,test_size = 0.2,random_state = 0)\n",
        "#Reshaping the data\n",
        "train_img = train_img/255.0\n",
        "test_img = test_img/255.0\n",
        "train_img = train_img.reshape(train_img.shape + (1,))\n",
        "test_img = test_img.reshape(test_img.shape + (1,))\n",
        "print(train_img.shape,train_labels.shape,test_img.shape,test_labels)\n",
        "\n"
      ],
      "execution_count": null,
      "outputs": [
        {
          "output_type": "stream",
          "text": [
            "(7999, 784, 1) (7999,) (2000, 784, 1) [7 8 7 ... 1 2 6]\n"
          ],
          "name": "stdout"
        }
      ]
    },
    {
      "cell_type": "code",
      "metadata": {
        "id": "RpNBVo7MqVbM",
        "colab_type": "code",
        "colab": {}
      },
      "source": [
        "\n",
        "#Designing the simple model\n",
        "model_1 = tf.keras.Sequential([\n",
        "                             tf.keras.layers.Flatten(input_shape = (784,1)),\n",
        "                             tf.keras.layers.Dense(128,activation='relu'),#128 is output of the fully connected layer after flattening\n",
        "                             tf.keras.layers.Dense(10,activation = 'softmax')\n",
        "])\n"
      ],
      "execution_count": null,
      "outputs": []
    },
    {
      "cell_type": "code",
      "metadata": {
        "id": "a2ZKkhMH6HZi",
        "colab_type": "code",
        "colab": {
          "base_uri": "https://localhost:8080/",
          "height": 108
        },
        "outputId": "a59bb600-9ee0-4763-c166-5ffac69bd95d"
      },
      "source": [
        "#Designing a Convolution Model\n",
        "'''\n",
        "model_2 = tf.keras.Sequential([\n",
        "                             tf.keras.layers.Conv2D(64,(3,3),activation = 'relu',input_shape=(28,28,1)),\n",
        "                             tf.keras.layers.MaxPooling2D(pool_size=(2,2)),\n",
        "                             tf.keras.layers.Conv2D(32,(3,3),activation='relu'),\n",
        "                             tf.keras.layers.MaxPool2D(pool_size=(2,2)),\n",
        "                             tf.keras.layers.Flatten(),\n",
        "                             tf.keras.layers.Dense(128,activation = 'relu'),\n",
        "                             tf.keras.layers.Dense(10, activation = 'softmax'),\n",
        "                             \n",
        "])\n",
        "'''"
      ],
      "execution_count": null,
      "outputs": [
        {
          "output_type": "execute_result",
          "data": {
            "application/vnd.google.colaboratory.intrinsic": {
              "type": "string"
            },
            "text/plain": [
              "\"\\nmodel_2 = tf.keras.Sequential([\\n                             tf.keras.layers.Conv2D(64,(3,3),activation = 'relu',input_shape=(28,28,1)),\\n                             tf.keras.layers.MaxPooling2D(pool_size=(2,2)),\\n                             tf.keras.layers.Conv2D(32,(3,3),activation='relu'),\\n                             tf.keras.layers.MaxPool2D(pool_size=(2,2)),\\n                             tf.keras.layers.Flatten(),\\n                             tf.keras.layers.Dense(128,activation = 'relu'),\\n                             tf.keras.layers.Dense(10, activation = 'softmax'),\\n                             tf.keras.layers.Dense(1,activation = 'sigmoid')\\n])\\n\""
            ]
          },
          "metadata": {
            "tags": []
          },
          "execution_count": 16
        }
      ]
    },
    {
      "cell_type": "code",
      "metadata": {
        "id": "csbBBs7tsCBV",
        "colab_type": "code",
        "colab": {
          "base_uri": "https://localhost:8080/",
          "height": 272
        },
        "outputId": "4e3f8681-9fe5-4c32-9a3a-14032b067d4c"
      },
      "source": [
        "\n",
        "#Optimization and Loss computation\n",
        "model_1.compile(optimizer = tf.optimizers.Adam(),loss = 'sparse_categorical_crossentropy',metrics = ['acc'] )\n",
        "\n",
        "model_1.summary()"
      ],
      "execution_count": null,
      "outputs": [
        {
          "output_type": "stream",
          "text": [
            "Model: \"sequential_4\"\n",
            "_________________________________________________________________\n",
            "Layer (type)                 Output Shape              Param #   \n",
            "=================================================================\n",
            "flatten_4 (Flatten)          (None, 784)               0         \n",
            "_________________________________________________________________\n",
            "dense_8 (Dense)              (None, 128)               100480    \n",
            "_________________________________________________________________\n",
            "dense_9 (Dense)              (None, 10)                1290      \n",
            "=================================================================\n",
            "Total params: 101,770\n",
            "Trainable params: 101,770\n",
            "Non-trainable params: 0\n",
            "_________________________________________________________________\n"
          ],
          "name": "stdout"
        }
      ]
    },
    {
      "cell_type": "code",
      "metadata": {
        "id": "4KTNVu8_uaA9",
        "colab_type": "code",
        "colab": {
          "base_uri": "https://localhost:8080/",
          "height": 199
        },
        "outputId": "de3a7b34-4eef-44c6-b014-b869fa842a8a"
      },
      "source": [
        "#fitting the model(Training the model)\n",
        "history = model_1.fit(train_img, train_labels,batch_size = 4,epochs=5)\n"
      ],
      "execution_count": null,
      "outputs": [
        {
          "output_type": "stream",
          "text": [
            "Epoch 1/5\n",
            "2000/2000 [==============================] - 3s 1ms/step - loss: 0.0074 - acc: 0.9982\n",
            "Epoch 2/5\n",
            "2000/2000 [==============================] - 3s 1ms/step - loss: 5.4676e-04 - acc: 0.9999\n",
            "Epoch 3/5\n",
            "2000/2000 [==============================] - 3s 1ms/step - loss: 0.0024 - acc: 0.9995\n",
            "Epoch 4/5\n",
            "2000/2000 [==============================] - 3s 1ms/step - loss: 0.0106 - acc: 0.9969\n",
            "Epoch 5/5\n",
            "2000/2000 [==============================] - 3s 1ms/step - loss: 4.1259e-04 - acc: 0.9999\n"
          ],
          "name": "stdout"
        }
      ]
    },
    {
      "cell_type": "code",
      "metadata": {
        "id": "oFnnL0G1tT4J",
        "colab_type": "code",
        "colab": {
          "base_uri": "https://localhost:8080/",
          "height": 54
        },
        "outputId": "245a42b9-a878-4514-daf7-3433fe261e03"
      },
      "source": [
        "#evaluation/Prediction\n",
        "model_1.evaluate(test_img,test_labels,batch_size= 10, verbose= 2)\n",
        "\n"
      ],
      "execution_count": null,
      "outputs": [
        {
          "output_type": "stream",
          "text": [
            "200/200 - 0s - loss: 0.2356 - acc: 0.9690\n"
          ],
          "name": "stdout"
        },
        {
          "output_type": "execute_result",
          "data": {
            "text/plain": [
              "[0.23560971021652222, 0.968999981880188]"
            ]
          },
          "metadata": {
            "tags": []
          },
          "execution_count": 65
        }
      ]
    },
    {
      "cell_type": "code",
      "metadata": {
        "id": "3qLW92s8vDQe",
        "colab_type": "code",
        "colab": {
          "base_uri": "https://localhost:8080/",
          "height": 317
        },
        "outputId": "7e548939-3787-472c-feab-764a7c7774bf"
      },
      "source": [
        "#libraries\n",
        "%matplotlib inline\n",
        "import matplotlib.image as mpimg\n",
        "import matplotlib.pyplot as plt\n",
        "\n",
        "#Creating List\n",
        "acc = history.history['acc']\n",
        "loss = history.history['loss']\n",
        "\n",
        "epochs = range(len(acc))\n",
        "\n",
        "#Plotting Training loss and accuracy\n",
        "plt.plot(epochs,acc,'r','training_acc')\n",
        "plt.plot(epochs,loss,'b','training_loss')\n",
        "plt.title(' Training acc and loss')\n",
        "plt.figure()\n",
        "\n",
        "\n"
      ],
      "execution_count": null,
      "outputs": [
        {
          "output_type": "execute_result",
          "data": {
            "text/plain": [
              "<Figure size 432x288 with 0 Axes>"
            ]
          },
          "metadata": {
            "tags": []
          },
          "execution_count": 60
        },
        {
          "output_type": "display_data",
          "data": {
            "image/png": "[encoded data removed]",
            "text/plain": [
              "<Figure size 432x288 with 1 Axes>"
            ]
          },
          "metadata": {
            "tags": [],
            "needs_background": "light"
          }
        },
        {
          "output_type": "display_data",
          "data": {
            "text/plain": [
              "<Figure size 432x288 with 0 Axes>"
            ]
          },
          "metadata": {
            "tags": []
          }
        }
      ]
    },
    {
      "cell_type": "code",
      "metadata": {
        "id": "ydmXWHCe16PK",
        "colab_type": "code",
        "colab": {}
      },
      "source": [
        ""
      ],
      "execution_count": null,
      "outputs": []
    }
  ]
}