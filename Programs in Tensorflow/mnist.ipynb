{
  "nbformat": 4,
  "nbformat_minor": 0,
  "metadata": {
    "colab": {
      "name": "mnist.ipynb",
      "provenance": [],
      "collapsed_sections": [],
      "authorship_tag": "ABX9TyN8toWTPkeybJ+TrC1oTuDW",
      "include_colab_link": true
    },
    "kernelspec": {
      "name": "python3",
      "display_name": "Python 3"
    }
  },
  "cells": [
    {
      "cell_type": "markdown",
      "metadata": {
        "id": "view-in-github",
        "colab_type": "text"
      },
      "source": [
        "<a href=\"https://colab.research.google.com/github/Rashi2011/Rashi-Madhukar/blob/master/Programs%20in%20Tensorflow/mnist.ipynb\" target=\"_parent\"><img src=\"https://colab.research.google.com/assets/colab-badge.svg\" alt=\"Open In Colab\"/></a>"
      ]
    },
    {
      "cell_type": "code",
      "metadata": {
        "id": "Ei5itGMw29bj",
        "colab_type": "code",
        "colab": {}
      },
      "source": [
        "#Adding epochs vs loss plot(for fashion_mnist dataset)\n",
        "#Adding epochs vs val_loss plot(for fashion_mnist dataset)\n"
      ],
      "execution_count": 0,
      "outputs": []
    },
    {
      "cell_type": "markdown",
      "metadata": {
        "id": "rLPpaozTLvoF",
        "colab_type": "text"
      },
      "source": [
        "***This is a Multiclass Dataset therefor we have to take 1st class as 1 and rest as 0 , then again only 2nd class is as 1 and rest all as 0 , and so on... ***\n"
      ]
    },
    {
      "cell_type": "code",
      "metadata": {
        "id": "et3RM0Z5_2ry",
        "colab_type": "code",
        "colab": {}
      },
      "source": [
        "#importing the libraries\n",
        "import tensorflow as tf\n",
        "from tensorflow import keras\n",
        "import pandas as pd\n",
        "import matplotlib.pyplot as plt\n",
        "from tensorflow.keras import layers"
      ],
      "execution_count": 0,
      "outputs": []
    },
    {
      "cell_type": "code",
      "metadata": {
        "id": "pkFOzSDMAjFB",
        "colab_type": "code",
        "outputId": "09faddd2-21cc-4ad3-c829-84772bb0e0d4",
        "colab": {
          "base_uri": "https://localhost:8080/",
          "height": 54
        }
      },
      "source": [
        "'''\n",
        "#Loading the data(mnist_data)\n",
        "path = \"/content/drive/My Drive/Colab Notebooks/Dataset/mnist_test.csv\"\n",
        "data = pd.read_csv(path)\n",
        "print(data.shape)\n",
        "X = data.iloc[:,1:785].values\n",
        "Y = data.iloc[:,0].values\n",
        "print(X.shape,Y.shape)\n",
        "'''"
      ],
      "execution_count": 0,
      "outputs": [
        {
          "output_type": "execute_result",
          "data": {
            "text/plain": [
              "'\\n#Loading the data(mnist_data)\\npath = \"/content/drive/My Drive/Colab Notebooks/Dataset/mnist_test.csv\"\\ndata = pd.read_csv(path)\\nprint(data.shape)\\nX = data.iloc[:,1:785].values\\nY = data.iloc[:,0].values\\nprint(X.shape,Y.shape)\\n'"
            ]
          },
          "metadata": {
            "tags": []
          },
          "execution_count": 31
        }
      ]
    },
    {
      "cell_type": "code",
      "metadata": {
        "id": "x5EZlAi_xoaG",
        "colab_type": "code",
        "outputId": "29e56cdb-cd4e-4d0e-b9fd-587c574847ce",
        "colab": {
          "base_uri": "https://localhost:8080/",
          "height": 34
        }
      },
      "source": [
        "\n",
        "#Loading the fashion_mnist dataset\n",
        "fashion_mnist = keras.datasets.fashion_mnist\n",
        "(train_img,train_labels),(test_img,test_labels) = fashion_mnist.load_data()\n",
        "print(train_img.shape,train_labels.shape,test_img.shape,test_labels.shape)\n"
      ],
      "execution_count": 0,
      "outputs": [
        {
          "output_type": "stream",
          "text": [
            "(60000, 28, 28) (60000,) (10000, 28, 28) (10000,)\n"
          ],
          "name": "stdout"
        }
      ]
    },
    {
      "cell_type": "code",
      "metadata": {
        "id": "rhGOy1yLBcjr",
        "colab_type": "code",
        "outputId": "431f2879-6d14-4ac5-f5e4-50e79c1a0640",
        "colab": {
          "base_uri": "https://localhost:8080/",
          "height": 54
        }
      },
      "source": [
        "'''\n",
        "#dividing data into train_test_split(for mnist_data)\n",
        "from sklearn.model_selection import train_test_split\n",
        "train_img,test_img,train_labels,test_labels = train_test_split(X,Y,test_size = 0.2, random_state = 0)\n",
        "print(train_img.shape,test_img.shape,train_labels.shape,test_labels.shape)\n",
        "'''"
      ],
      "execution_count": 0,
      "outputs": [
        {
          "output_type": "execute_result",
          "data": {
            "text/plain": [
              "'\\n#dividing data into train_test_split(for mnist_data)\\nfrom sklearn.model_selection import train_test_split\\ntrain_img,test_img,train_labels,test_labels = train_test_split(X,Y,test_size = 0.2, random_state = 0)\\nprint(train_img.shape,test_img.shape,train_labels.shape,test_labels.shape)\\n'"
            ]
          },
          "metadata": {
            "tags": []
          },
          "execution_count": 33
        }
      ]
    },
    {
      "cell_type": "code",
      "metadata": {
        "id": "VtBmaIsACDc4",
        "colab_type": "code",
        "outputId": "6ac29c03-0910-4254-bac9-e1309dedcb8c",
        "colab": {
          "base_uri": "https://localhost:8080/",
          "height": 34
        }
      },
      "source": [
        "#(fashion_mnist dataset)\n",
        "#Rescaling the images\n",
        "train_img = train_img.reshape(train_img.shape + (1,))\n",
        "train_img = train_img/255.0\n",
        "print(train_img.shape,train_labels.shape)\n"
      ],
      "execution_count": 0,
      "outputs": [
        {
          "output_type": "stream",
          "text": [
            "(60000, 28, 28, 1) (60000,)\n"
          ],
          "name": "stdout"
        }
      ]
    },
    {
      "cell_type": "code",
      "metadata": {
        "id": "RpNBVo7MqVbM",
        "colab_type": "code",
        "outputId": "d4c9b831-bf05-4ed4-9234-1abae94c6492",
        "colab": {
          "base_uri": "https://localhost:8080/",
          "height": 54
        }
      },
      "source": [
        "'''\n",
        "#Designing the simple model\n",
        "model_1 = tf.keras.Sequential([\n",
        "                             tf.keras.layers.Flatten(),\n",
        "                             tf.keras.layers.Dense(128,activation='relu'),#128 is output of the fully connected layer after flattening\n",
        "                             tf.keras.layers.Dense(1,activation = 'softmax')\n",
        "])\n",
        "'''"
      ],
      "execution_count": 0,
      "outputs": [
        {
          "output_type": "execute_result",
          "data": {
            "text/plain": [
              "\"\\n#Designing the simple model\\nmodel_1 = tf.keras.Sequential([\\n                             tf.keras.layers.Flatten(),\\n                             tf.keras.layers.Dense(128,activation='relu'),#128 is output of the fully connected layer after flattening\\n                             tf.keras.layers.Dense(1,activation = 'softmax')\\n])\\n\""
            ]
          },
          "metadata": {
            "tags": []
          },
          "execution_count": 35
        }
      ]
    },
    {
      "cell_type": "code",
      "metadata": {
        "id": "a2ZKkhMH6HZi",
        "colab_type": "code",
        "colab": {}
      },
      "source": [
        "#Designing a Convolution Model\n",
        "\n",
        "model_2 = tf.keras.Sequential([\n",
        "                             tf.keras.layers.Conv2D(64,(3,3),activation = 'relu',input_shape=(28,28,1)),\n",
        "                             tf.keras.layers.MaxPooling2D(pool_size=(2,2)),\n",
        "                             tf.keras.layers.Conv2D(32,(3,3),activation='relu'),\n",
        "                             tf.keras.layers.MaxPool2D(pool_size=(2,2)),\n",
        "                             tf.keras.layers.Flatten(),\n",
        "                             tf.keras.layers.Dense(128,activation = 'relu'),\n",
        "                             tf.keras.layers.Dense(10, activation = 'softmax'),\n",
        "                             tf.keras.layers.Dense(1,activation = 'sigmoid')\n",
        "])\n"
      ],
      "execution_count": 0,
      "outputs": []
    },
    {
      "cell_type": "code",
      "metadata": {
        "id": "csbBBs7tsCBV",
        "colab_type": "code",
        "outputId": "aa99bc26-3bc1-4e28-8177-19612696fed1",
        "colab": {
          "base_uri": "https://localhost:8080/",
          "height": 425
        }
      },
      "source": [
        "#Optimization and Loss computation\n",
        "model_2.compile(optimizer = tf.optimizers.Adam(),loss = 'categorical_crossentropy' )\n",
        "\n",
        "model_2.summary()"
      ],
      "execution_count": 0,
      "outputs": [
        {
          "output_type": "stream",
          "text": [
            "Model: \"sequential_3\"\n",
            "_________________________________________________________________\n",
            "Layer (type)                 Output Shape              Param #   \n",
            "=================================================================\n",
            "conv2d_6 (Conv2D)            (None, 26, 26, 64)        640       \n",
            "_________________________________________________________________\n",
            "max_pooling2d_6 (MaxPooling2 (None, 13, 13, 64)        0         \n",
            "_________________________________________________________________\n",
            "conv2d_7 (Conv2D)            (None, 11, 11, 32)        18464     \n",
            "_________________________________________________________________\n",
            "max_pooling2d_7 (MaxPooling2 (None, 5, 5, 32)          0         \n",
            "_________________________________________________________________\n",
            "flatten_3 (Flatten)          (None, 800)               0         \n",
            "_________________________________________________________________\n",
            "dense_7 (Dense)              (None, 128)               102528    \n",
            "_________________________________________________________________\n",
            "dense_8 (Dense)              (None, 10)                1290      \n",
            "_________________________________________________________________\n",
            "dense_9 (Dense)              (None, 1)                 11        \n",
            "=================================================================\n",
            "Total params: 122,933\n",
            "Trainable params: 122,933\n",
            "Non-trainable params: 0\n",
            "_________________________________________________________________\n"
          ],
          "name": "stdout"
        }
      ]
    },
    {
      "cell_type": "code",
      "metadata": {
        "id": "4KTNVu8_uaA9",
        "colab_type": "code",
        "outputId": "2695987c-c121-4350-b057-c263a3043bc3",
        "colab": {
          "base_uri": "https://localhost:8080/",
          "height": 51
        }
      },
      "source": [
        "#fitting the model(Training the model)\n",
        "model_2.fit(train_img, train_labels,batch_size = 4,epochs=5)"
      ],
      "execution_count": 0,
      "outputs": [
        {
          "output_type": "stream",
          "text": [
            "Epoch 1/5\n",
            " 8771/15000 [================>.............] - ETA: 42s - loss: 5.3662e-07"
          ],
          "name": "stdout"
        }
      ]
    },
    {
      "cell_type": "code",
      "metadata": {
        "id": "oFnnL0G1tT4J",
        "colab_type": "code",
        "outputId": "5702ac9b-8ee5-4f1f-c8ec-162389ecaa48",
        "colab": {
          "base_uri": "https://localhost:8080/",
          "height": 180
        }
      },
      "source": [
        "#evaluation/Prediction\n",
        "model.evaluate(test_img,test_labels)\n"
      ],
      "execution_count": 0,
      "outputs": [
        {
          "output_type": "error",
          "ename": "NameError",
          "evalue": "ignored",
          "traceback": [
            "\u001b[0;31m---------------------------------------------------------------------------\u001b[0m",
            "\u001b[0;31mNameError\u001b[0m                                 Traceback (most recent call last)",
            "\u001b[0;32m<ipython-input-29-851dafda5922>\u001b[0m in \u001b[0;36m<module>\u001b[0;34m()\u001b[0m\n\u001b[1;32m      1\u001b[0m \u001b[0;31m#evaluation/Prediction\u001b[0m\u001b[0;34m\u001b[0m\u001b[0;34m\u001b[0m\u001b[0;34m\u001b[0m\u001b[0m\n\u001b[0;32m----> 2\u001b[0;31m \u001b[0mmodel\u001b[0m\u001b[0;34m.\u001b[0m\u001b[0mevaluate\u001b[0m\u001b[0;34m(\u001b[0m\u001b[0mtest_img\u001b[0m\u001b[0;34m,\u001b[0m\u001b[0mtest_labels\u001b[0m\u001b[0;34m)\u001b[0m\u001b[0;34m\u001b[0m\u001b[0;34m\u001b[0m\u001b[0m\n\u001b[0m",
            "\u001b[0;31mNameError\u001b[0m: name 'model' is not defined"
          ]
        }
      ]
    },
    {
      "cell_type": "code",
      "metadata": {
        "id": "3qLW92s8vDQe",
        "colab_type": "code",
        "outputId": "3abcaa6f-bbb5-40ed-889b-5836fbdfe28b",
        "colab": {
          "base_uri": "https://localhost:8080/",
          "height": 231
        }
      },
      "source": [
        "#Plotting the loss vs epochs\n",
        "\n",
        "plt.xlabel('epochs')\n",
        "plt.ylabel('Loss')\n",
        "plt.show()"
      ],
      "execution_count": 0,
      "outputs": [
        {
          "output_type": "error",
          "ename": "NameError",
          "evalue": "ignored",
          "traceback": [
            "\u001b[0;31m---------------------------------------------------------------------------\u001b[0m",
            "\u001b[0;31mNameError\u001b[0m                                 Traceback (most recent call last)",
            "\u001b[0;32m<ipython-input-19-da359b935853>\u001b[0m in \u001b[0;36m<module>\u001b[0;34m()\u001b[0m\n\u001b[1;32m      1\u001b[0m \u001b[0;31m#Plotting the loss vs epochs\u001b[0m\u001b[0;34m\u001b[0m\u001b[0;34m\u001b[0m\u001b[0;34m\u001b[0m\u001b[0m\n\u001b[0;32m----> 2\u001b[0;31m \u001b[0mplt\u001b[0m\u001b[0;34m.\u001b[0m\u001b[0mplot\u001b[0m\u001b[0;34m(\u001b[0m\u001b[0mloss\u001b[0m\u001b[0;34m)\u001b[0m\u001b[0;34m\u001b[0m\u001b[0;34m\u001b[0m\u001b[0m\n\u001b[0m\u001b[1;32m      3\u001b[0m \u001b[0mplt\u001b[0m\u001b[0;34m.\u001b[0m\u001b[0mxlabel\u001b[0m\u001b[0;34m(\u001b[0m\u001b[0;34m'epochs'\u001b[0m\u001b[0;34m)\u001b[0m\u001b[0;34m\u001b[0m\u001b[0;34m\u001b[0m\u001b[0m\n\u001b[1;32m      4\u001b[0m \u001b[0mplt\u001b[0m\u001b[0;34m.\u001b[0m\u001b[0mylabel\u001b[0m\u001b[0;34m(\u001b[0m\u001b[0;34m'Loss'\u001b[0m\u001b[0;34m)\u001b[0m\u001b[0;34m\u001b[0m\u001b[0;34m\u001b[0m\u001b[0m\n\u001b[1;32m      5\u001b[0m \u001b[0mplt\u001b[0m\u001b[0;34m.\u001b[0m\u001b[0mshow\u001b[0m\u001b[0;34m(\u001b[0m\u001b[0;34m)\u001b[0m\u001b[0;34m\u001b[0m\u001b[0;34m\u001b[0m\u001b[0m\n",
            "\u001b[0;31mNameError\u001b[0m: name 'loss' is not defined"
          ]
        }
      ]
    },
    {
      "cell_type": "code",
      "metadata": {
        "id": "ydmXWHCe16PK",
        "colab_type": "code",
        "colab": {}
      },
      "source": [
        ""
      ],
      "execution_count": 0,
      "outputs": []
    }
  ]
}