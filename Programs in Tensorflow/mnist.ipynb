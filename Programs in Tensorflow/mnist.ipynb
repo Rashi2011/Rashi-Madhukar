{
  "nbformat": 4,
  "nbformat_minor": 0,
  "metadata": {
    "colab": {
      "name": "mnist.ipynb",
      "provenance": [],
      "collapsed_sections": [],
      "authorship_tag": "ABX9TyO8hpfKA5YfQpvizFjCz67A",
      "include_colab_link": true
    },
    "kernelspec": {
      "name": "python3",
      "display_name": "Python 3"
    }
  },
  "cells": [
    {
      "cell_type": "markdown",
      "metadata": {
        "id": "view-in-github",
        "colab_type": "text"
      },
      "source": [
        "<a href=\"https://colab.research.google.com/github/Rashi2011/Rashi-Madhukar/blob/master/Programs%20in%20Tensorflow/mnist.ipynb\" target=\"_parent\"><img src=\"https://colab.research.google.com/assets/colab-badge.svg\" alt=\"Open In Colab\"/></a>"
      ]
    },
    {
      "cell_type": "markdown",
      "metadata": {
        "id": "rLPpaozTLvoF",
        "colab_type": "text"
      },
      "source": [
        "***This is a Multiclass Dataset therefor we have to take 1st class as 1 and rest as 0 , then again only 2nd class is as 1 and rest all as 0 , and so on... ***\n"
      ]
    },
    {
      "cell_type": "code",
      "metadata": {
        "id": "et3RM0Z5_2ry",
        "colab_type": "code",
        "colab": {}
      },
      "source": [
        "#importing the libraries\n",
        "import tensorflow as tf\n",
        "from tensorflow import keras\n",
        "import pandas as pd\n",
        "import matplotlib.pyplot as plt\n",
        "from tensorflow.keras import layers"
      ],
      "execution_count": 0,
      "outputs": []
    },
    {
      "cell_type": "code",
      "metadata": {
        "id": "pkFOzSDMAjFB",
        "colab_type": "code",
        "outputId": "81514ca8-4c63-4b98-c2b1-3f0e2269aeed",
        "colab": {
          "base_uri": "https://localhost:8080/",
          "height": 54
        }
      },
      "source": [
        "'''\n",
        "#Loading the data(mnist_data)\n",
        "path = \"/content/drive/My Drive/Colab Notebooks/Dataset/mnist_test.csv\"\n",
        "data = pd.read_csv(path)\n",
        "print(data.shape)\n",
        "X = data.iloc[:,1:785].values\n",
        "Y = data.iloc[:,0].values\n",
        "print(X.shape,Y.shape)\n",
        "'''"
      ],
      "execution_count": 0,
      "outputs": [
        {
          "output_type": "execute_result",
          "data": {
            "text/plain": [
              "'\\n#Loading the data(mnist_data)\\npath = \"/content/drive/My Drive/Colab Notebooks/Dataset/mnist_test.csv\"\\ndata = pd.read_csv(path)\\nprint(data.shape)\\nX = data.iloc[:,1:785].values\\nY = data.iloc[:,0].values\\nprint(X.shape,Y.shape)\\n'"
            ]
          },
          "metadata": {
            "tags": []
          },
          "execution_count": 45
        }
      ]
    },
    {
      "cell_type": "code",
      "metadata": {
        "id": "x5EZlAi_xoaG",
        "colab_type": "code",
        "outputId": "e8f846b4-f12f-4d75-f809-69ca67e8416e",
        "colab": {
          "base_uri": "https://localhost:8080/",
          "height": 34
        }
      },
      "source": [
        "\n",
        "#Loading the fashion_mnist dataset\n",
        "fashion_mnist = keras.datasets.fashion_mnist\n",
        "(train_img,train_labels),(test_img,test_labels) = fashion_mnist.load_data()\n",
        "print(train_img.shape,train_labels.shape,test_img.shape,test_labels.shape)\n"
      ],
      "execution_count": 0,
      "outputs": [
        {
          "output_type": "stream",
          "text": [
            "(60000, 28, 28) (60000,) (10000, 28, 28) (10000,)\n"
          ],
          "name": "stdout"
        }
      ]
    },
    {
      "cell_type": "code",
      "metadata": {
        "id": "rhGOy1yLBcjr",
        "colab_type": "code",
        "outputId": "dc66cadb-8202-42d8-87a1-d338b7fbcf15",
        "colab": {
          "base_uri": "https://localhost:8080/",
          "height": 54
        }
      },
      "source": [
        "'''\n",
        "#dividing data into train_test_split(for mnist_data)\n",
        "from sklearn.model_selection import train_test_split\n",
        "train_img,test_img,train_labels,test_labels = train_test_split(X,Y,test_size = 0.2, random_state = 0)\n",
        "print(train_img.shape,test_img.shape,train_labels.shape,test_labels.shape)\n",
        "'''"
      ],
      "execution_count": 0,
      "outputs": [
        {
          "output_type": "execute_result",
          "data": {
            "text/plain": [
              "'\\n#dividing data into train_test_split(for mnist_data)\\nfrom sklearn.model_selection import train_test_split\\ntrain_img,test_img,train_labels,test_labels = train_test_split(X,Y,test_size = 0.2, random_state = 0)\\nprint(train_img.shape,test_img.shape,train_labels.shape,test_labels.shape)\\n'"
            ]
          },
          "metadata": {
            "tags": []
          },
          "execution_count": 47
        }
      ]
    },
    {
      "cell_type": "code",
      "metadata": {
        "id": "VtBmaIsACDc4",
        "colab_type": "code",
        "outputId": "88679709-f776-4eb0-aa4d-82ac67ca09ed",
        "colab": {
          "base_uri": "https://localhost:8080/",
          "height": 34
        }
      },
      "source": [
        "#(fashion_mnist dataset)\n",
        "#Rescaling the images(training images)\n",
        "train_img = train_img.reshape(train_img.shape + (1,))\n",
        "train_img = train_img/255.0\n",
        "print(train_img.shape,train_labels.shape)\n"
      ],
      "execution_count": 0,
      "outputs": [
        {
          "output_type": "stream",
          "text": [
            "(60000, 28, 28, 1) (60000,)\n"
          ],
          "name": "stdout"
        }
      ]
    },
    {
      "cell_type": "code",
      "metadata": {
        "id": "RpNBVo7MqVbM",
        "colab_type": "code",
        "outputId": "8c2ac677-bce2-4f7a-b28d-344c90af5b25",
        "colab": {
          "base_uri": "https://localhost:8080/",
          "height": 54
        }
      },
      "source": [
        "'''\n",
        "#Designing the simple model\n",
        "model_1 = tf.keras.Sequential([\n",
        "                             tf.keras.layers.Flatten(),\n",
        "                             tf.keras.layers.Dense(128,activation='relu'),#128 is output of the fully connected layer after flattening\n",
        "                             tf.keras.layers.Dense(1,activation = 'softmax')\n",
        "])\n",
        "'''"
      ],
      "execution_count": 0,
      "outputs": [
        {
          "output_type": "execute_result",
          "data": {
            "text/plain": [
              "\"\\n#Designing the simple model\\nmodel_1 = tf.keras.Sequential([\\n                             tf.keras.layers.Flatten(),\\n                             tf.keras.layers.Dense(128,activation='relu'),#128 is output of the fully connected layer after flattening\\n                             tf.keras.layers.Dense(1,activation = 'softmax')\\n])\\n\""
            ]
          },
          "metadata": {
            "tags": []
          },
          "execution_count": 49
        }
      ]
    },
    {
      "cell_type": "code",
      "metadata": {
        "id": "a2ZKkhMH6HZi",
        "colab_type": "code",
        "colab": {}
      },
      "source": [
        "#Designing a Convolution Model\n",
        "\n",
        "model_2 = tf.keras.Sequential([\n",
        "                             tf.keras.layers.Conv2D(64,(3,3),activation = 'relu',input_shape=(28,28,1)),\n",
        "                             tf.keras.layers.MaxPooling2D(pool_size=(2,2)),\n",
        "                             tf.keras.layers.Conv2D(32,(3,3),activation='relu'),\n",
        "                             tf.keras.layers.MaxPool2D(pool_size=(2,2)),\n",
        "                             tf.keras.layers.Flatten(),\n",
        "                             tf.keras.layers.Dense(128,activation = 'relu'),\n",
        "                             tf.keras.layers.Dense(10, activation = 'softmax'),\n",
        "                             tf.keras.layers.Dense(1,activation = 'sigmoid')\n",
        "])\n"
      ],
      "execution_count": 0,
      "outputs": []
    },
    {
      "cell_type": "code",
      "metadata": {
        "id": "csbBBs7tsCBV",
        "colab_type": "code",
        "outputId": "c5e91a77-b53b-4042-f139-0e4f7f3bde61",
        "colab": {
          "base_uri": "https://localhost:8080/",
          "height": 425
        }
      },
      "source": [
        "#Optimization and Loss computation\n",
        "model_2.compile(optimizer = tf.optimizers.Adam(),loss = 'categorical_crossentropy', metrics = ['acc'] )\n",
        "\n",
        "model_2.summary()"
      ],
      "execution_count": 0,
      "outputs": [
        {
          "output_type": "stream",
          "text": [
            "Model: \"sequential_3\"\n",
            "_________________________________________________________________\n",
            "Layer (type)                 Output Shape              Param #   \n",
            "=================================================================\n",
            "conv2d_6 (Conv2D)            (None, 26, 26, 64)        640       \n",
            "_________________________________________________________________\n",
            "max_pooling2d_6 (MaxPooling2 (None, 13, 13, 64)        0         \n",
            "_________________________________________________________________\n",
            "conv2d_7 (Conv2D)            (None, 11, 11, 32)        18464     \n",
            "_________________________________________________________________\n",
            "max_pooling2d_7 (MaxPooling2 (None, 5, 5, 32)          0         \n",
            "_________________________________________________________________\n",
            "flatten_3 (Flatten)          (None, 800)               0         \n",
            "_________________________________________________________________\n",
            "dense_9 (Dense)              (None, 128)               102528    \n",
            "_________________________________________________________________\n",
            "dense_10 (Dense)             (None, 10)                1290      \n",
            "_________________________________________________________________\n",
            "dense_11 (Dense)             (None, 1)                 11        \n",
            "=================================================================\n",
            "Total params: 122,933\n",
            "Trainable params: 122,933\n",
            "Non-trainable params: 0\n",
            "_________________________________________________________________\n"
          ],
          "name": "stdout"
        }
      ]
    },
    {
      "cell_type": "code",
      "metadata": {
        "id": "4KTNVu8_uaA9",
        "colab_type": "code",
        "outputId": "f1b8e4d4-5913-4fb4-cd7f-cc62614a548b",
        "colab": {
          "base_uri": "https://localhost:8080/",
          "height": 187
        }
      },
      "source": [
        "#fitting the model(Training the model)\n",
        "history = model_2.fit(train_img, train_labels,batch_size = 4,epochs=5)"
      ],
      "execution_count": 0,
      "outputs": [
        {
          "output_type": "stream",
          "text": [
            "Epoch 1/5\n",
            "15000/15000 [==============================] - 104s 7ms/step - loss: 5.3644e-07 - acc: 0.1000\n",
            "Epoch 2/5\n",
            "15000/15000 [==============================] - 103s 7ms/step - loss: 5.3644e-07 - acc: 0.1000\n",
            "Epoch 3/5\n",
            "15000/15000 [==============================] - 107s 7ms/step - loss: 5.3644e-07 - acc: 0.1000\n",
            "Epoch 4/5\n",
            "15000/15000 [==============================] - 107s 7ms/step - loss: 5.3644e-07 - acc: 0.1000\n",
            "Epoch 5/5\n",
            "15000/15000 [==============================] - 105s 7ms/step - loss: 5.3644e-07 - acc: 0.1000\n"
          ],
          "name": "stdout"
        }
      ]
    },
    {
      "cell_type": "code",
      "metadata": {
        "id": "UQUOUaSN6g1M",
        "colab_type": "code",
        "outputId": "6ead6fe0-b764-4fca-f0d4-68dc765de286",
        "colab": {
          "base_uri": "https://localhost:8080/",
          "height": 34
        }
      },
      "source": [
        "#(fashion_mnist dataset)\n",
        "#Rescaling the images(test images)\n",
        "test_img = test_img.reshape(test_img.shape + (1,))\n",
        "test_img = test_img/255.0\n",
        "print(test_img.shape)"
      ],
      "execution_count": 0,
      "outputs": [
        {
          "output_type": "stream",
          "text": [
            "(10000, 28, 28, 1)\n"
          ],
          "name": "stdout"
        }
      ]
    },
    {
      "cell_type": "code",
      "metadata": {
        "id": "oFnnL0G1tT4J",
        "colab_type": "code",
        "outputId": "5d31be79-d95d-477f-91cc-90b3a5e696d3",
        "colab": {
          "base_uri": "https://localhost:8080/",
          "height": 34
        }
      },
      "source": [
        "#evaluation/Prediction\n",
        "model_2.evaluate(test_img,test_labels)\n"
      ],
      "execution_count": 0,
      "outputs": [
        {
          "output_type": "stream",
          "text": [
            "313/313 [==============================] - 3s 10ms/step - loss: 5.3644e-07 - acc: 0.1000\n"
          ],
          "name": "stdout"
        }
      ]
    },
    {
      "cell_type": "code",
      "metadata": {
        "id": "_cMGgO-MH1Qg",
        "colab_type": "code",
        "colab": {}
      },
      "source": [
        "#libraries\n",
        "%matplotlib inline\n",
        "import matplotlib.image as mpimg\n",
        "import matplotlib.pyplot as plt\n"
      ],
      "execution_count": 0,
      "outputs": []
    },
    {
      "cell_type": "code",
      "metadata": {
        "id": "3qLW92s8vDQe",
        "colab_type": "code",
        "outputId": "7e794dc4-2e07-483d-b935-ba98b5097022",
        "colab": {
          "base_uri": "https://localhost:8080/",
          "height": 231
        }
      },
      "source": [
        "#Creating List\n",
        "acc = history.history['acc']\n",
        "val_acc = history.history['val_acc']\n",
        "loss = history.history['loss']\n",
        "val_loss = history.history['val_loss']\n",
        "epochs = range(len(acc))\n",
        "\n",
        "#Plotting Training and Validation accuracy\n",
        "plt.plot(epochs,acc,'r','training_acc')\n",
        "plt.plot(epochs,val_acc,'b','val_acc')\n",
        "plt.title(' Training and Validation accuracy')\n",
        "plt.figure()\n",
        "\n",
        "#Plotting  Training and Validation loss\n",
        "plt.plot(epochs,loss,'r','training loss')\n",
        "plt.plot(epochs,val_loss,'b','val_loss')\n",
        "plt.title(' Training and Validation accuracy')\n",
        "\n"
      ],
      "execution_count": 0,
      "outputs": [
        {
          "output_type": "error",
          "ename": "AttributeError",
          "evalue": "ignored",
          "traceback": [
            "\u001b[0;31m---------------------------------------------------------------------------\u001b[0m",
            "\u001b[0;31mAttributeError\u001b[0m                            Traceback (most recent call last)",
            "\u001b[0;32m<ipython-input-59-7ecc62e61d2e>\u001b[0m in \u001b[0;36m<module>\u001b[0;34m()\u001b[0m\n\u001b[1;32m      5\u001b[0m \u001b[0;34m\u001b[0m\u001b[0m\n\u001b[1;32m      6\u001b[0m \u001b[0;31m#Creating List\u001b[0m\u001b[0;34m\u001b[0m\u001b[0;34m\u001b[0m\u001b[0;34m\u001b[0m\u001b[0m\n\u001b[0;32m----> 7\u001b[0;31m \u001b[0macc\u001b[0m \u001b[0;34m=\u001b[0m \u001b[0mhistory\u001b[0m\u001b[0;34m.\u001b[0m\u001b[0mhistory\u001b[0m\u001b[0;34m[\u001b[0m\u001b[0;34m'acc'\u001b[0m\u001b[0;34m]\u001b[0m\u001b[0;34m\u001b[0m\u001b[0;34m\u001b[0m\u001b[0m\n\u001b[0m\u001b[1;32m      8\u001b[0m \u001b[0mval_acc\u001b[0m \u001b[0;34m=\u001b[0m \u001b[0mhistory1\u001b[0m\u001b[0;34m.\u001b[0m\u001b[0mhistory1\u001b[0m\u001b[0;34m[\u001b[0m\u001b[0;34m'val_acc'\u001b[0m\u001b[0;34m]\u001b[0m\u001b[0;34m\u001b[0m\u001b[0;34m\u001b[0m\u001b[0m\n\u001b[1;32m      9\u001b[0m \u001b[0mloss\u001b[0m \u001b[0;34m=\u001b[0m \u001b[0mhistory\u001b[0m\u001b[0;34m.\u001b[0m\u001b[0mhistory\u001b[0m\u001b[0;34m[\u001b[0m\u001b[0;34m'loss'\u001b[0m\u001b[0;34m]\u001b[0m\u001b[0;34m\u001b[0m\u001b[0;34m\u001b[0m\u001b[0m\n",
            "\u001b[0;31mAttributeError\u001b[0m: 'list' object has no attribute 'history'"
          ]
        }
      ]
    },
    {
      "cell_type": "code",
      "metadata": {
        "id": "ydmXWHCe16PK",
        "colab_type": "code",
        "colab": {}
      },
      "source": [
        ""
      ],
      "execution_count": 0,
      "outputs": []
    }
  ]
}